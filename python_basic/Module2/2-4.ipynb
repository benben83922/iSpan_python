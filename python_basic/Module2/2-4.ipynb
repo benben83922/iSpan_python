{
 "cells": [
  {
   "cell_type": "markdown",
   "metadata": {},
   "source": [
    "|取偶數|取奇數|\n",
    "|:---|:---|\n",
    "|num%2==0|num%2!=0|"
   ]
  },
  {
   "cell_type": "markdown",
   "metadata": {},
   "source": [
    "算術運算子"
   ]
  },
  {
   "cell_type": "code",
   "execution_count": 1,
   "metadata": {},
   "outputs": [
    {
     "name": "stdout",
     "output_type": "stream",
     "text": [
      "9\n",
      "1\n",
      "2\n",
      "8\n"
     ]
    }
   ],
   "source": [
    "print(5+4)\n",
    "print(5%4)\n",
    "print(9//4)\n",
    "print(2**3)"
   ]
  },
  {
   "cell_type": "code",
   "execution_count": 2,
   "metadata": {},
   "outputs": [
    {
     "name": "stdout",
     "output_type": "stream",
     "text": [
      "2\n",
      "1\n"
     ]
    }
   ],
   "source": [
    "num1 = 9\n",
    "num2 = 4\n",
    "print(num1//num2)\n",
    "print(num1%num2)"
   ]
  },
  {
   "cell_type": "markdown",
   "metadata": {},
   "source": [
    "賦值運算子"
   ]
  },
  {
   "cell_type": "code",
   "execution_count": 3,
   "metadata": {},
   "outputs": [
    {
     "name": "stdout",
     "output_type": "stream",
     "text": [
      "7\n",
      "4\n"
     ]
    }
   ],
   "source": [
    "a = 3\n",
    "b = 4\n",
    "b += a\n",
    "print(b)\n",
    "b -= a\n",
    "print(b)"
   ]
  },
  {
   "cell_type": "markdown",
   "metadata": {},
   "source": [
    "比較運算子 (用 if 判斷)"
   ]
  },
  {
   "cell_type": "code",
   "execution_count": 4,
   "metadata": {},
   "outputs": [
    {
     "name": "stdout",
     "output_type": "stream",
     "text": [
      "True\n",
      "False\n",
      "True\n"
     ]
    }
   ],
   "source": [
    "print(5==5)\n",
    "a = 10\n",
    "b = 5\n",
    "print(a==b)\n",
    "print(a!=b)"
   ]
  },
  {
   "cell_type": "code",
   "execution_count": 5,
   "metadata": {},
   "outputs": [
    {
     "name": "stdout",
     "output_type": "stream",
     "text": [
      "a不等於b\n"
     ]
    }
   ],
   "source": [
    "a = 10\n",
    "b = 5\n",
    "if a != b:\n",
    "    print(\"a不等於b\")"
   ]
  },
  {
   "cell_type": "code",
   "execution_count": 6,
   "metadata": {},
   "outputs": [
    {
     "name": "stdout",
     "output_type": "stream",
     "text": [
      "加分\n",
      "學生的分數是： 60\n"
     ]
    }
   ],
   "source": [
    "score = 50\n",
    "passing_score = 60\n",
    "\n",
    "if score < passing_score:\n",
    "    score += 10\n",
    "    print(\"加分\")\n",
    "\n",
    "print(\"學生的分數是：\", score)"
   ]
  },
  {
   "cell_type": "markdown",
   "metadata": {},
   "source": [
    "邏輯運算子 and / or / not"
   ]
  },
  {
   "cell_type": "code",
   "execution_count": 7,
   "metadata": {},
   "outputs": [
    {
     "name": "stdout",
     "output_type": "stream",
     "text": [
      "name：Ben; age: 18\n"
     ]
    }
   ],
   "source": [
    "name = \"Ben\"\n",
    "age = 18\n",
    "\n",
    "if name == \"Ben\" and age == 18:\n",
    "    print(\"name：Ben; age: 18\")"
   ]
  },
  {
   "cell_type": "code",
   "execution_count": null,
   "metadata": {},
   "outputs": [
    {
     "name": "stdout",
     "output_type": "stream",
     "text": [
      "正確\n"
     ]
    }
   ],
   "source": [
    "if name == \"Ben\" or age == 20:\n",
    "    print(\"正確\")"
   ]
  },
  {
   "cell_type": "code",
   "execution_count": 9,
   "metadata": {},
   "outputs": [
    {
     "name": "stdout",
     "output_type": "stream",
     "text": [
      "執行 not 語句\n"
     ]
    }
   ],
   "source": [
    "if not(name == \"Alex\"):\n",
    "    print(\"執行 not 語句\")"
   ]
  },
  {
   "cell_type": "markdown",
   "metadata": {},
   "source": [
    "成員運算子 in / not in"
   ]
  },
  {
   "cell_type": "code",
   "execution_count": 10,
   "metadata": {},
   "outputs": [
    {
     "name": "stdout",
     "output_type": "stream",
     "text": [
      "1 in list\n"
     ]
    }
   ],
   "source": [
    "num_list = [1, 2, 3, 4]\n",
    "\n",
    "if 1 in num_list:\n",
    "    print(\"1 in list\")"
   ]
  },
  {
   "cell_type": "code",
   "execution_count": 12,
   "metadata": {},
   "outputs": [
    {
     "name": "stdout",
     "output_type": "stream",
     "text": [
      "5 not in list\n"
     ]
    }
   ],
   "source": [
    "if 5 not in num_list:\n",
    "    print(\"5 not in list\")"
   ]
  },
  {
   "cell_type": "markdown",
   "metadata": {},
   "source": [
    "身分運算子 is / is not"
   ]
  },
  {
   "cell_type": "code",
   "execution_count": 20,
   "metadata": {},
   "outputs": [
    {
     "name": "stdout",
     "output_type": "stream",
     "text": [
      "140730354607512\n",
      "140730354607512\n",
      "x 和 y 參照到同一個記憶體位置\n"
     ]
    }
   ],
   "source": [
    "x = 10\n",
    "y = 10\n",
    "print(id(x)) #記憶體位置\n",
    "print(id(y)) #記憶體位置\n",
    "if x is y:\n",
    "    print(\"x 和 y 參照到同一個記憶體位置\")"
   ]
  },
  {
   "cell_type": "markdown",
   "metadata": {},
   "source": [
    "位元運算子"
   ]
  },
  {
   "cell_type": "code",
   "execution_count": 24,
   "metadata": {},
   "outputs": [
    {
     "name": "stdout",
     "output_type": "stream",
     "text": [
      "1\n",
      "3\n",
      "2\n"
     ]
    }
   ],
   "source": [
    "x = 1 #0001\n",
    "y = 3 #0011\n",
    "\n",
    "print(x&y) #0001\n",
    "print(x|y) #0011\n",
    "print(x^y) #0010"
   ]
  }
 ],
 "metadata": {
  "kernelspec": {
   "display_name": "Python 3",
   "language": "python",
   "name": "python3"
  },
  "language_info": {
   "codemirror_mode": {
    "name": "ipython",
    "version": 3
   },
   "file_extension": ".py",
   "mimetype": "text/x-python",
   "name": "python",
   "nbconvert_exporter": "python",
   "pygments_lexer": "ipython3",
   "version": "3.14.0"
  }
 },
 "nbformat": 4,
 "nbformat_minor": 2
}

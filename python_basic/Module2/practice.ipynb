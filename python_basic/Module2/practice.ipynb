{
 "cells": [
  {
   "cell_type": "markdown",
   "metadata": {},
   "source": [
    "百貨公司周年慶 消費金額超過 2000 要折 200  \n",
    "\n",
    "請撰寫一支程式  \n",
    "計算客戶消費的結帳金額"
   ]
  },
  {
   "cell_type": "code",
   "execution_count": 15,
   "metadata": {},
   "outputs": [
    {
     "name": "stdout",
     "output_type": "stream",
     "text": [
      "折扣次數 1\n",
      "結帳金額 1800\n"
     ]
    }
   ],
   "source": [
    "input = 2000\n",
    "if input >= 2000:\n",
    "    discount_times = input//2000\n",
    "    if input >= 3800:\n",
    "        discount_times = (input-200)//2000\n",
    "    discount = 200 * discount_times\n",
    "    final_price = input-discount\n",
    "    print(\"折扣次數\", discount_times)\n",
    "    print(\"結帳金額\", final_price)\n",
    "else:\n",
    "    print(\"未達到折扣金額\")\n",
    "    print(\"結帳金額\", input)\n"
   ]
  },
  {
   "cell_type": "code",
   "execution_count": 23,
   "metadata": {},
   "outputs": [
    {
     "name": "stdout",
     "output_type": "stream",
     "text": [
      "結帳金額 5400\n"
     ]
    }
   ],
   "source": [
    "# 滿 4000 折 400 滿 6000 折 600\n",
    "input_2 = 6000\n",
    "discount_2 = 0\n",
    "if input_2 >= 4000 and input_2 < 6000:\n",
    "    discount_2 = 400\n",
    "elif input_2 >= 6000:\n",
    "    discount_2 = 600\n",
    "print(\"結帳金額\", input_2 - discount_2)"
   ]
  }
 ],
 "metadata": {
  "kernelspec": {
   "display_name": "Python 3",
   "language": "python",
   "name": "python3"
  },
  "language_info": {
   "codemirror_mode": {
    "name": "ipython",
    "version": 3
   },
   "file_extension": ".py",
   "mimetype": "text/x-python",
   "name": "python",
   "nbconvert_exporter": "python",
   "pygments_lexer": "ipython3",
   "version": "3.14.0"
  }
 },
 "nbformat": 4,
 "nbformat_minor": 2
}
